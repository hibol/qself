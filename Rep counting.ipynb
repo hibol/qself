{
 "cells": [
  {
   "cell_type": "code",
   "execution_count": 1,
   "metadata": {},
   "outputs": [],
   "source": [
    "from os import listdir\n",
    "from matplotlib import pyplot as pl\n",
    "import pandas as pd\n",
    "import numpy as np"
   ]
  },
  {
   "cell_type": "code",
   "execution_count": 2,
   "metadata": {},
   "outputs": [],
   "source": [
    "path = \"./selected_raw_data/\""
   ]
  },
  {
   "cell_type": "code",
   "execution_count": 3,
   "metadata": {},
   "outputs": [],
   "source": [
    "def slice_generation(data):\n",
    "    n_samples_per_slice = 10\n",
    "    slice_overlap = 5\n",
    "\n",
    "    storage = {}\n",
    "    for f in data:\n",
    "        # skip lud data, for the moment we only consider one person\n",
    "        if 'lud' in f:\n",
    "            continue\n",
    "\n",
    "        # sort data in the python dict according to type of exercise (found in filename)    \n",
    "        if 'corde' in f:\n",
    "            label = 'corde'\n",
    "        elif 'squats' in f:\n",
    "            label = 'squats'\n",
    "        elif 'dorsaux' in f:\n",
    "            label = 'dorsaux'\n",
    "        elif 'abdos' in f:\n",
    "            label = 'abdos'\n",
    "\n",
    "        # iterate through the file to generate slices\n",
    "        # by starting at \"slice_duration\", we skip the first slice, which might not be relevant\n",
    "        # we also drop the last slice by stopping the loop 2*slice duration before the end\n",
    "        for start_sample in range(n_samples_per_slice, len(data[f]['timestamp'])-2*n_samples_per_slice, slice_overlap):\n",
    "            df_temp = data[f].iloc[start_sample:start_sample+n_samples_per_slice, :]\n",
    "            df_temp = df_temp.drop(columns='timestamp')\n",
    "\n",
    "            # TODO: drop first and last slice of each file\n",
    "\n",
    "            if label in storage.keys():          # if the label already exists in the dictionary\n",
    "                temp = storage[label]\n",
    "                temp.append(df_temp)           # append the new geture to the list\n",
    "                storage[label] = temp\n",
    "            else:\n",
    "                storage[label] = [df_temp,] # otherwise, create a list with one element\n",
    "                \n",
    "    return storage"
   ]
  },
  {
   "cell_type": "markdown",
   "metadata": {},
   "source": [
    "## Import data\n",
    "Steps for each file :\n",
    "- print filename (useful to access data later)\n",
    "- create a dataframe from the values inside the file\n",
    "- clean timestamp in order to get a column indicating the elapsed time in seconds"
   ]
  },
  {
   "cell_type": "code",
   "execution_count": 4,
   "metadata": {},
   "outputs": [
    {
     "name": "stdout",
     "output_type": "stream",
     "text": [
      "Data for training :  abdos_f5_lud.csv\n",
      "Data for training :  abdos_f5_manon1.csv\n",
      "Data for training :  abdos_f5_manon2.csv\n",
      "Data for training :  abdos_f5_manon3.csv\n",
      "Data for validation :  abdos_f5_manon4_valid.csv\n",
      "Data for training :  corde_f5_manon1.csv\n",
      "Data for training :  corde_f5_manon2.csv\n",
      "Data for training :  corde_f5_manon3.csv\n",
      "Data for validation :  corde_f5_manon4_valid.csv\n",
      "Data for training :  dorsaux_f5_lud.csv\n",
      "Data for training :  dorsaux_f5_manon1.csv\n",
      "Data for training :  dorsaux_f5_manon2.csv\n",
      "Data for training :  dorsaux_f5_manon3.csv\n",
      "Data for validation :  dorsaux_f5_manon4_valid.csv\n",
      "Data for training :  squats_f5_lud.csv\n",
      "Data for training :  squats_f5_manon1.csv\n",
      "Data for training :  squats_f5_manon2.csv\n",
      "Data for training :  squats_f5_manon3.csv\n",
      "Data for validation :  squats_f5_manon4_valid.csv\n"
     ]
    }
   ],
   "source": [
    "data_test ={}\n",
    "data_train ={}\n",
    "for f in listdir(path):\n",
    "    if \"valid\" in f:\n",
    "        print(\"Data for validation : \",f)\n",
    "        data_test[f] = pd.read_csv(path+f)\n",
    "        start_time = data_test[f][\"timestamp\"][0]\n",
    "        data_test[f][\"timestamp\"] = (data_test[f][\"timestamp\"]-start_time)/1000\n",
    "    else :\n",
    "        print(\"Data for training : \",f)\n",
    "        data_train[f] = pd.read_csv(path+f)\n",
    "        start_time = data_train[f][\"timestamp\"][0]\n",
    "        data_train[f][\"timestamp\"] = (data_train[f][\"timestamp\"]-start_time)/1000"
   ]
  },
  {
   "cell_type": "markdown",
   "metadata": {},
   "source": [
    "##  Plots\n",
    "### Abdos"
   ]
  },
  {
   "cell_type": "code",
   "execution_count": 6,
   "metadata": {},
   "outputs": [
    {
     "ename": "TypeError",
     "evalue": "unsupported operand type(s) for +: 'dict' and 'dict'",
     "output_type": "error",
     "traceback": [
      "\u001b[1;31m---------------------------------------------------------------------------\u001b[0m",
      "\u001b[1;31mTypeError\u001b[0m                                 Traceback (most recent call last)",
      "\u001b[1;32m<ipython-input-6-f66b19372475>\u001b[0m in \u001b[0;36m<module>\u001b[1;34m()\u001b[0m\n\u001b[1;32m----> 1\u001b[1;33m \u001b[0mdata\u001b[0m \u001b[1;33m=\u001b[0m \u001b[0mdata_test\u001b[0m \u001b[1;33m+\u001b[0m \u001b[0mdata_train\u001b[0m\u001b[1;33m\u001b[0m\u001b[0m\n\u001b[0m",
      "\u001b[1;31mTypeError\u001b[0m: unsupported operand type(s) for +: 'dict' and 'dict'"
     ]
    }
   ],
   "source": [
    "data = data_test + data_train"
   ]
  },
  {
   "cell_type": "code",
   "execution_count": 5,
   "metadata": {},
   "outputs": [
    {
     "ename": "NameError",
     "evalue": "name 'data' is not defined",
     "output_type": "error",
     "traceback": [
      "\u001b[1;31m---------------------------------------------------------------------------\u001b[0m",
      "\u001b[1;31mNameError\u001b[0m                                 Traceback (most recent call last)",
      "\u001b[1;32m<ipython-input-5-60a164c57cc4>\u001b[0m in \u001b[0;36m<module>\u001b[1;34m()\u001b[0m\n\u001b[1;32m----> 1\u001b[1;33m \u001b[1;32mfor\u001b[0m \u001b[0mf\u001b[0m \u001b[1;32min\u001b[0m \u001b[0mdata\u001b[0m\u001b[1;33m:\u001b[0m\u001b[1;33m\u001b[0m\u001b[0m\n\u001b[0m\u001b[0;32m      2\u001b[0m     \u001b[1;32mif\u001b[0m \u001b[1;34m\"abdos\"\u001b[0m \u001b[1;32min\u001b[0m \u001b[0mf\u001b[0m\u001b[1;33m:\u001b[0m\u001b[1;33m\u001b[0m\u001b[0m\n\u001b[0;32m      3\u001b[0m         \u001b[0mdata\u001b[0m\u001b[1;33m[\u001b[0m\u001b[0mf\u001b[0m\u001b[1;33m]\u001b[0m\u001b[1;33m.\u001b[0m\u001b[0mplot\u001b[0m\u001b[1;33m(\u001b[0m\u001b[0mx\u001b[0m\u001b[1;33m=\u001b[0m\u001b[1;34m\"timestamp\"\u001b[0m\u001b[1;33m,\u001b[0m \u001b[0my\u001b[0m\u001b[1;33m=\u001b[0m\u001b[1;33m[\u001b[0m\u001b[1;34m'x'\u001b[0m\u001b[1;33m,\u001b[0m \u001b[1;34m'y'\u001b[0m\u001b[1;33m,\u001b[0m \u001b[1;34m'z'\u001b[0m\u001b[1;33m]\u001b[0m\u001b[1;33m,\u001b[0m \u001b[0mkind\u001b[0m\u001b[1;33m=\u001b[0m\u001b[1;34m'line'\u001b[0m\u001b[1;33m,\u001b[0m \u001b[0mtitle\u001b[0m\u001b[1;33m=\u001b[0m\u001b[0mf\u001b[0m\u001b[1;33m,\u001b[0m \u001b[0mgrid\u001b[0m\u001b[1;33m=\u001b[0m\u001b[1;32mTrue\u001b[0m\u001b[1;33m)\u001b[0m\u001b[1;33m\u001b[0m\u001b[0m\n\u001b[0;32m      4\u001b[0m         \u001b[0mpl\u001b[0m\u001b[1;33m.\u001b[0m\u001b[0mylabel\u001b[0m\u001b[1;33m(\u001b[0m\u001b[1;34m'acceleration [N/kg]'\u001b[0m\u001b[1;33m)\u001b[0m\u001b[1;33m\u001b[0m\u001b[0m\n\u001b[0;32m      5\u001b[0m         \u001b[0mpl\u001b[0m\u001b[1;33m.\u001b[0m\u001b[0mxlabel\u001b[0m\u001b[1;33m(\u001b[0m\u001b[1;34m'time [s]'\u001b[0m\u001b[1;33m)\u001b[0m\u001b[1;33m\u001b[0m\u001b[0m\n",
      "\u001b[1;31mNameError\u001b[0m: name 'data' is not defined"
     ]
    }
   ],
   "source": [
    "for f in data:\n",
    "    if \"abdos\" in f:\n",
    "        data[f].plot(x=\"timestamp\", y=['x', 'y', 'z'], kind='line', title=f, grid=True)\n",
    "        pl.ylabel('acceleration [N/kg]')\n",
    "        pl.xlabel('time [s]')"
   ]
  },
  {
   "cell_type": "code",
   "execution_count": null,
   "metadata": {},
   "outputs": [],
   "source": []
  }
 ],
 "metadata": {
  "kernelspec": {
   "display_name": "server",
   "language": "python",
   "name": "server"
  },
  "language_info": {
   "codemirror_mode": {
    "name": "ipython",
    "version": 3
   },
   "file_extension": ".py",
   "mimetype": "text/x-python",
   "name": "python",
   "nbconvert_exporter": "python",
   "pygments_lexer": "ipython3",
   "version": "3.6.2"
  }
 },
 "nbformat": 4,
 "nbformat_minor": 2
}
