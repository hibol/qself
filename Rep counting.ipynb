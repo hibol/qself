{
 "cells": [
  {
   "cell_type": "code",
   "execution_count": 1,
   "metadata": {},
   "outputs": [],
   "source": [
    "from os import listdir\n",
    "from matplotlib import pyplot as pl\n",
    "import pandas as pd\n",
    "import numpy as np"
   ]
  },
  {
   "cell_type": "code",
   "execution_count": 2,
   "metadata": {},
   "outputs": [],
   "source": [
    "path = \"./selected_raw_data/\""
   ]
  },
  {
   "cell_type": "code",
   "execution_count": null,
   "metadata": {},
   "outputs": [],
   "source": [
    "def slice_generation(data):\n",
    "    n_samples_per_slice = 10\n",
    "    slice_overlap = 5\n",
    "\n",
    "    storage = {}\n",
    "    for f in data:\n",
    "        # skip lud data, for the moment we only consider one person\n",
    "        if 'lud' in f:\n",
    "            continue\n",
    "\n",
    "        # sort data in the python dict according to type of exercise (found in filename)    \n",
    "        if 'corde' in f:\n",
    "            label = 'corde'\n",
    "        elif 'squats' in f:\n",
    "            label = 'squats'\n",
    "        elif 'dorsaux' in f:\n",
    "            label = 'dorsaux'\n",
    "        elif 'abdos' in f:\n",
    "            label = 'abdos'\n",
    "\n",
    "        # iterate through the file too generate slices\n",
    "        # by starting at \"slice_duration\", we skip the first slice, which might not be relevant\n",
    "        # we also drop the last slice by stopping the loop 2*slice duration before the end\n",
    "        for start_sample in range(n_samples_per_slice, len(data[f]['timestamp'])-2*n_samples_per_slice, slice_overlap):\n",
    "            df_temp = data[f].iloc[start_sample:start_sample+n_samples_per_slice, :]\n",
    "            df_temp = df_temp.drop(columns='timestamp')\n",
    "\n",
    "            # TODO: drop first and last slice of each file\n",
    "\n",
    "            if label in storage.keys():          # if the label already exists in the dictionary\n",
    "                temp = storage[label]\n",
    "                temp.append(df_temp)           # append the new geture to the list\n",
    "                storage[label] = temp\n",
    "            else:\n",
    "                storage[label] = [df_temp,] # otherwise, create a list with one element\n",
    "                \n",
    "    return storage"
   ]
  }
 ],
 "metadata": {
  "kernelspec": {
   "display_name": "server",
   "language": "python",
   "name": "server"
  },
  "language_info": {
   "codemirror_mode": {
    "name": "ipython",
    "version": 3
   },
   "file_extension": ".py",
   "mimetype": "text/x-python",
   "name": "python",
   "nbconvert_exporter": "python",
   "pygments_lexer": "ipython3",
   "version": "3.6.2"
  }
 },
 "nbformat": 4,
 "nbformat_minor": 2
}
